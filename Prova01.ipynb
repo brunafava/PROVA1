{
 "cells": [
  {
   "cell_type": "markdown",
   "id": "557c1e79-9e22-4d61-8720-ba3c48c8dc7b",
   "metadata": {},
   "source": [
    "## Prova 1: Implemente uma função que conte o número de elementos em uma lista encadeada. A função deve percorrer a lista e retornar o total de elementos."
   ]
  },
  {
   "cell_type": "markdown",
   "id": "a5371b16-18e4-42e1-843b-8bc4218c65c0",
   "metadata": {},
   "source": [
    "### 1) A lista deve armazenar números inteiros;\n",
    "### 2) Implemente uma função que percorre a lista e conta quantos elementos estão inseridos;\n",
    "### 3) Leve em consideração a implementação fornecida a seguir."
   ]
  },
  {
   "cell_type": "code",
   "execution_count": 11,
   "id": "126aae07-9ffd-40b9-8361-39e408dbb900",
   "metadata": {},
   "outputs": [],
   "source": [
    "class No:\n",
    "    def __init__(self, valor):\n",
    "        self.valor = valor # insere valor\n",
    "        self.proximo = None # não tem valor adiante\n",
    "\n",
    "class ListaEncadeada:\n",
    "    def __init__(self):\n",
    "        self.inicio = None # lista vazia\n",
    "\n",
    "    def inserir(self, valor):\n",
    "        novo_no = No(valor) \n",
    "        if self.inicio is None:\n",
    "            self.inicio = novo_no # cria o início\n",
    "        else:\n",
    "            atual = self.inicio\n",
    "            while atual.proximo:\n",
    "                atual = atual.proximo\n",
    "            atual.proximo = novo_no # move pra próxima\n",
    "\n",
    "    def contar(self):\n",
    "        contando = 0\n",
    "        atual = self.inicio\n",
    "        while atual is not None:\n",
    "            contando += 1\n",
    "            atual = atual.proximo\n",
    "        return contando # conta um em um e devolve o resultado quando chega ao fim"
   ]
  },
  {
   "cell_type": "code",
   "execution_count": 14,
   "id": "1cd259e5-10e3-44b7-b4ae-cbfd7faa7393",
   "metadata": {},
   "outputs": [
    {
     "name": "stdout",
     "output_type": "stream",
     "text": [
      "3\n"
     ]
    }
   ],
   "source": [
    "lista = ListaEncadeada() #criando uma lista\n",
    "\n",
    "lista.inserir(5)\n",
    "lista.inserir(15)\n",
    "lista.inserir(25)\n",
    "\n",
    "print(lista.contar())"
   ]
  }
 ],
 "metadata": {
  "kernelspec": {
   "display_name": "Python 3 (ipykernel)",
   "language": "python",
   "name": "python3"
  },
  "language_info": {
   "codemirror_mode": {
    "name": "ipython",
    "version": 3
   },
   "file_extension": ".py",
   "mimetype": "text/x-python",
   "name": "python",
   "nbconvert_exporter": "python",
   "pygments_lexer": "ipython3",
   "version": "3.13.5"
  }
 },
 "nbformat": 4,
 "nbformat_minor": 5
}
